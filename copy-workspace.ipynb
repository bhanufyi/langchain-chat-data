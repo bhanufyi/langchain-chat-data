{
 "cells": [
  {
   "cell_type": "code",
   "execution_count": null,
   "metadata": {},
   "outputs": [],
   "source": [
    "import os\n",
    "import tarfile\n",
    "from IPython.display import FileLink, display\n",
    "\n",
    "# Define paths\n",
    "current_dir = os.getcwd()  # Current working directory\n",
    "archive_name = \"workspace.tar.gz\"\n",
    "archive_path = os.path.join(current_dir, archive_name)\n",
    "\n",
    "\n",
    "# Function to create a tar.gz archive\n",
    "def create_tar_gz(input_dir, output_file):\n",
    "    # Remove existing archive if it exists\n",
    "    if os.path.exists(output_file):\n",
    "        os.remove(output_file)\n",
    "    # Create a tar.gz archive\n",
    "    with tarfile.open(output_file, \"w:gz\") as tar:\n",
    "        tar.add(input_dir, arcname=\".\")\n",
    "    print(f\"Archive created: {output_file}\")\n",
    "\n",
    "\n",
    "# Create the archive\n",
    "try:\n",
    "    create_tar_gz(current_dir, archive_path)\n",
    "    # Provide a download link\n",
    "    display(FileLink(archive_path))\n",
    "except Exception as e:\n",
    "    print(f\"Error: {e}\")"
   ]
  }
 ],
 "metadata": {
  "language_info": {
   "name": "python"
  }
 },
 "nbformat": 4,
 "nbformat_minor": 5
}
